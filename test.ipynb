{
  "cells": [
    {
      "cell_type": "markdown",
      "metadata": {
        "id": "view-in-github",
        "colab_type": "text"
      },
      "source": [
        "<a href=\"https://colab.research.google.com/github/trehansalil/clean_or_no_clean/blob/main/test.ipynb\" target=\"_parent\"><img src=\"https://colab.research.google.com/assets/colab-badge.svg\" alt=\"Open In Colab\"/></a>"
      ]
    },
    {
      "cell_type": "code",
      "execution_count": null,
      "metadata": {
        "id": "Up_iumGcI8jN"
      },
      "outputs": [],
      "source": [
        "import os\n",
        "import cv2 as cv\n",
        "from glob import glob\n",
        "\n",
        "categories = ['clean', 'messy']\n",
        "raw_dir = {'train': './raw/train', 'val': './raw/val'}\n",
        "output_dir = './images'\n",
        "extensions = ('*.jpg', '*.png')\n"
      ]
    },
    {
      "cell_type": "code",
      "execution_count": null,
      "metadata": {
        "id": "Kcj0ah00I8jQ"
      },
      "outputs": [],
      "source": [
        "if not os.path.exists(output_dir):\n",
        "    os.mkdir(output_dir)"
      ]
    },
    {
      "cell_type": "code",
      "execution_count": null,
      "metadata": {
        "id": "ii3NJ0B5I8jR"
      },
      "outputs": [],
      "source": [
        "def resize(image, img_size = 299):\n",
        "    h, w, c = image.shape\n",
        "    cropped = image\n",
        "    if h < w:\n",
        "        diff = (w - h) // 2\n",
        "        cropped = image[:, diff: (diff + h), :]\n",
        "    elif h > w:\n",
        "        diff = (h - w) // 2\n",
        "        cropped = image[diff: (diff + w), :, :]\n",
        "\n",
        "    h, w, c = cropped.shape\n",
        "    if h > img_size:    # shrink\n",
        "        return cv.resize(cropped, (img_size, img_size), interpolation=cv.INTER_AREA)\n",
        "    elif h < img_size:  # enlarge\n",
        "        return cv.resize(cropped, (img_size, img_size), interpolation=cv.INTER_CUBIC)\n",
        "    else:\n",
        "        return cropped"
      ]
    },
    {
      "cell_type": "code",
      "execution_count": null,
      "metadata": {
        "id": "piPX0aGLI8jS",
        "outputId": "a5f36bd0-fa3f-4dbb-f952-6710242a265e"
      },
      "outputs": [
        {
          "name": "stdout",
          "output_type": "stream",
          "text": [
            "./raw/train/clean/*.jpg\n",
            "./raw/train/clean/*.png\n",
            "processing: ./raw/train/clean/240_F_629580437_fc9kgoFtMGrGodIU0GRcZrNZpzAuteIp.jpg\n",
            "processing: ./raw/train/clean/240_F_636126525_j8vSnp0sXg9e1WLRigLA8YX8zMrkTOEu.jpg\n",
            "processing: ./raw/train/clean/240_F_196997285_5TO5iWGsW4ruIjAPJLbePFnOLyol5OB1.jpg\n",
            "processing: ./raw/train/clean/240_F_136321570_vdzGyD9wnc618kDmYcLsdsyZJqWUtnZf.jpg\n",
            "processing: ./raw/train/clean/240_F_49619979_2lyfHBejqIsrgAAQrUXjLZJaFiGbeZWW.jpg\n",
            "processing: ./raw/train/clean/240_F_217951471_LzKKLeyXZ61bRCCrPYqxwphSOq8oNWLY.jpg\n",
            "processing: ./raw/train/clean/240_F_461370506_HX1zmYH4dRLPvifCGVgFwLjZ0TO5QyEn.jpg\n",
            "processing: ./raw/train/clean/240_F_639620917_sB1i01bmQUHqcR7nagr4GVey9J8ESy2j.jpg\n",
            "processing: ./raw/train/clean/240_F_221509420_5guDmOXwuLKY30dayIl38sMkuCCJpSrl.jpg\n",
            "./raw/train/messy/*.jpg\n",
            "./raw/train/messy/*.png\n",
            "processing: ./raw/train/messy/240_F_676663582_KM213e6b95u4RVNlYJSJKxTeZluIrrA1.jpg\n",
            "processing: ./raw/train/messy/240_F_660567859_VK2knM8RlK92WMluSilv15a3bQXnKyCS.jpg\n",
            "processing: ./raw/train/messy/240_F_131147225_jkOb7NxiWxYYUsxRIvEgyzhBcsSIZQy8.jpg\n",
            "processing: ./raw/train/messy/240_F_664223912_tvPriYHtkrZFSqynbQH8948d3BdtaUTs.jpg\n",
            "processing: ./raw/train/messy/240_F_670524325_5Jd62S771XOZI1zORHtrepkVyLbdMn8n.jpg\n",
            "processing: ./raw/train/messy/240_F_584534113_UmiamazeHE4or9jkfE7nzA0iLLw72fRH.jpg\n",
            "processing: ./raw/train/messy/240_F_690376124_SBHMr2QuKwnPdxZH1F4pqwvTSWfS42ns.jpg\n",
            "processing: ./raw/train/messy/240_F_637294396_TNsTJbivToLAEbXKLRvCtTlPEYO9kdhO.jpg\n",
            "processing: ./raw/train/messy/240_F_637294623_dvLLN1ul2ujBLRToNmE46cy4ceMC2uSc.jpg\n",
            "processing: ./raw/train/messy/240_F_631523759_gdrJpgPTTYc4sUQtR9G1nYiRX5u86jaK.jpg\n",
            "processing: ./raw/train/messy/240_F_257413398_tSrPULBG4y8RKaOtM9hLcdDOLUXUUkME.jpg\n",
            "processing: ./raw/train/messy/240_F_370904864_HdPrz9MnDu5QwM71UCOZArQZcGm7OKWV.jpg\n"
          ]
        },
        {
          "name": "stdout",
          "output_type": "stream",
          "text": [
            "processing: ./raw/train/messy/240_F_292737061_DpbDurRPiNSpB4lROL98VbgeFAl9tfqw.jpg\n",
            "processing: ./raw/train/messy/240_F_239446277_oUOsEXCFY4SLuHsmkV22lRxvS35TJQmx.jpg\n",
            "processing: ./raw/train/messy/240_F_65371097_ufDbBicZy9W2OC5a2imWMnTA4vyxSXBD.jpg\n",
            "processing: ./raw/train/messy/240_F_1106456_CWGv0EGm9WYZDk6qMFlme1GHn1umfX.jpg\n",
            "processing: ./raw/train/messy/240_F_667115220_ClfT9KTOe1oGc5A3qgMFlFf6jnqN6eLQ.jpg\n",
            "./raw/val/clean/*.jpg\n",
            "./raw/val/clean/*.png\n",
            "processing: ./raw/val/clean/240_F_336510426_T8r3jTg31kgoyoMGULULyl1iJDCQgIvz.jpg\n",
            "processing: ./raw/val/clean/240_F_577688677_LdbPdKZquQbRAMNCTW3AefgugpygVvol.jpg\n",
            "processing: ./raw/val/clean/240_F_221509408_ekUpElITcvwAGKDIanHpIDLuEZ5Jdfy7.jpg\n",
            "processing: ./raw/val/clean/240_F_712950271_KvoXgEfDnp5RroR3ORkIrGxEZfP5aDT4.jpg\n",
            "processing: ./raw/val/clean/240_F_333004296_vaaERKXMcpAU4q7GhQKoP3s6YHwkN4n9.jpg\n",
            "processing: ./raw/val/clean/240_F_95558174_cwyIq9NMleDmHSeZZZwjQdAhHe9MuzsN.jpg\n",
            "processing: ./raw/val/clean/240_F_124351325_GSNxP0OAkyIlZIIVSZW96u1YiidowRb2.jpg\n",
            "processing: ./raw/val/clean/240_F_42534287_t26MIjbmUeHLivgj4NYW8tApYVUYpXdY.jpg\n",
            "./raw/val/messy/*.jpg\n",
            "./raw/val/messy/*.png\n",
            "processing: ./raw/val/messy/240_F_637294495_5lnCaG3YIchTvbfrzW4dzwnShK7kIfKT.jpg\n",
            "processing: ./raw/val/messy/240_F_583757158_odzyqqNNsQOO0zXp2s2kkZBBHOvIlnJb.jpg\n",
            "processing: ./raw/val/messy/240_F_569736168_alQQVPONANAoWDGFl9ec2GrEkRjztBH5.jpg\n",
            "processing: ./raw/val/messy/240_F_584534111_setsAi8nkeLpzbKHlWNwrOsuqHvjgG96.jpg\n",
            "processing: ./raw/val/messy/240_F_571352630_vorFi7GaeOF35a0UzX0ciZbuGoShGN6o.jpg\n",
            "processing: ./raw/val/messy/240_F_599157889_r1fRkGIn4UHQZUB0UGMSjXaVRlVzNIaT.jpg\n",
            "processing: ./raw/val/messy/240_F_631523753_y5nNFPUl3LzunaCiOANGNKV17YB2ImWC.jpg\n",
            "processing: ./raw/val/messy/240_F_626417811_MY0NV2lVamWz1kxSb1W6sHSlIwFrc3OX.jpg\n",
            "processing: ./raw/val/messy/240_F_635878752_T6tbqYWo0yE3LrrLgHmpn2fWQtQkD3EB.jpg\n",
            "processing: ./raw/val/messy/240_F_582526027_GlbjlXSTLXGPpCk4uqzfB399DcVGMDBc.jpg\n",
            "processing: ./raw/val/messy/240_F_642465487_Es1mMDQFv4a0x6Z9Dsma1uGm9fxnf9Hm.jpg\n",
            "processing: ./raw/val/messy/240_F_570164430_ky2p73RtQx4furxqHZG2H5D1FfR6Fiwp.jpg\n",
            "processing: ./raw/val/messy/240_F_571352679_C8MLeqxANWgfyHNzv56VJocUXs7oASDK.jpg\n",
            "processing: ./raw/val/messy/240_F_281424373_diXWuFQY8UJjrf6Ilx50LWhrhcmw1VpV.jpg\n"
          ]
        }
      ],
      "source": [
        "for dataset, path in raw_dir.items():\n",
        "    output_set_dir = os.path.join(output_dir, dataset)\n",
        "    if not os.path.exists(output_set_dir):\n",
        "        os.mkdir(output_set_dir)\n",
        "\n",
        "    for cat in categories:\n",
        "        output_cat_dir = os.path.join(output_set_dir, cat)\n",
        "        if not os.path.exists(output_cat_dir):\n",
        "            os.mkdir(output_cat_dir)\n",
        "\n",
        "        input_dir = os.path.join(path, cat)\n",
        "        filenames = list()\n",
        "        for ext in extensions:\n",
        "            print(os.path.join(input_dir, ext))\n",
        "            filenames.extend(glob(os.path.join(input_dir, ext)))\n",
        "\n",
        "        for i, file in enumerate(filenames):\n",
        "            print('processing:', file)\n",
        "            img = cv.imread(file)\n",
        "            resized = resize(img)\n",
        "            img_name = str(i) + '.png'\n",
        "            filepath = os.path.join(output_cat_dir, img_name)\n",
        "            cv.imwrite(filepath, resized)"
      ]
    },
    {
      "cell_type": "code",
      "source": [
        "from google.colab import drive\n",
        "drive.mount('/content/drive')"
      ],
      "metadata": {
        "id": "AmZm5sdRMzQ5",
        "outputId": "c363b618-3a1b-4061-cd00-a6aedca45885",
        "colab": {
          "base_uri": "https://localhost:8080/"
        }
      },
      "execution_count": 1,
      "outputs": [
        {
          "output_type": "stream",
          "name": "stdout",
          "text": [
            "Drive already mounted at /content/drive; to attempt to forcibly remount, call drive.mount(\"/content/drive\", force_remount=True).\n"
          ]
        }
      ]
    },
    {
      "cell_type": "code",
      "execution_count": 33,
      "metadata": {
        "id": "jwVkmcpmI8jT"
      },
      "outputs": [],
      "source": [
        "import os\n",
        "from glob import glob\n",
        "import cv2 as cv\n",
        "import numpy as np\n",
        "\n",
        "categories = ['clean', 'messy']\n",
        "data_dir = {'train': '/content/drive/MyDrive/Imagees/images/train', 'val': '/content/drive/MyDrive/Imagees/images/val'}\n",
        "\n",
        "\n",
        "def load_data():\n",
        "    \"\"\"96 images per class in training set, 10 images per class in validation set\"\"\"\n",
        "\n",
        "    x_train = list()\n",
        "    x_val = list()\n",
        "    y_train = list()\n",
        "    y_val = list()\n",
        "\n",
        "    for dataset, path in data_dir.items():\n",
        "        for i, cat in enumerate(categories):\n",
        "            cur_dir = os.path.join(path, cat)\n",
        "            filenames = glob(os.path.join(cur_dir, '*.png'))\n",
        "            for file in filenames:\n",
        "                img = cv.imread(file)\n",
        "                if dataset == 'train':\n",
        "                    x_train.append(img)\n",
        "                    y_train.append(i)\n",
        "                else:\n",
        "                    x_val.append(img)\n",
        "                    y_val.append(i)\n",
        "\n",
        "    x_train = np.asarray(x_train)\n",
        "    y_train = np.asarray(y_train)\n",
        "    x_val = np.asarray(x_val)\n",
        "    y_val = np.asarray(y_val)\n",
        "\n",
        "    return (x_train, y_train), (x_val, y_val)\n",
        "\n",
        "\n",
        "(x_train, y_train), (x_val, y_val) = load_data()\n",
        "\n",
        "# normalize data\n",
        "channel_mean = np.mean(x_train, axis=(0, 1, 2))\n",
        "channel_std = np.std(x_train, axis=(0, 1, 2))\n",
        "\n",
        "x_train = x_train.astype('float32')\n",
        "x_val = x_val.astype('float32')\n",
        "\n",
        "for i in range(3):\n",
        "    x_train[:, :, :, i] = (x_train[:, :, :, i] - channel_mean[i]) / channel_std[i]\n",
        "    x_val[:, :, :, i] = (x_val[:, :, :, i] - channel_mean[i]) / channel_std[i]\n"
      ]
    },
    {
      "cell_type": "code",
      "execution_count": 34,
      "metadata": {
        "id": "MsKSYY9AI8jU"
      },
      "outputs": [],
      "source": [
        "from tensorflow.keras.preprocessing.image import ImageDataGenerator\n",
        "from tensorflow.keras.applications import Xception, EfficientNetB0, MobileNetV3Large"
      ]
    },
    {
      "cell_type": "code",
      "execution_count": 35,
      "metadata": {
        "id": "TdFYuCkpI8jV",
        "outputId": "30d0facb-e6ae-4e65-8939-cd441b46419c",
        "colab": {
          "base_uri": "https://localhost:8080/"
        }
      },
      "outputs": [
        {
          "output_type": "stream",
          "name": "stdout",
          "text": [
            "0\n",
            "(384, 299, 299, 3)\n",
            "(384,)\n",
            "1\n",
            "(576, 299, 299, 3)\n",
            "(576,)\n",
            "2\n",
            "(768, 299, 299, 3)\n",
            "(768,)\n",
            "3\n",
            "(960, 299, 299, 3)\n",
            "(960,)\n",
            "4\n",
            "(1152, 299, 299, 3)\n",
            "(1152,)\n",
            "5\n",
            "(1344, 299, 299, 3)\n",
            "(1344,)\n",
            "6\n",
            "(1536, 299, 299, 3)\n",
            "(1536,)\n",
            "7\n",
            "(1728, 299, 299, 3)\n",
            "(1728,)\n"
          ]
        }
      ],
      "source": [
        "# define data augmentation\n",
        "datagen = ImageDataGenerator(\n",
        "    rotation_range=20,\n",
        "    width_shift_range=0.2,\n",
        "    height_shift_range=0.2,\n",
        "    shear_range=0.2,\n",
        "    zoom_range=0.2,\n",
        "    horizontal_flip=True\n",
        ")\n",
        "\n",
        "augmented_data = x_train.copy()\n",
        "train_labels = y_train.copy()\n",
        "\n",
        "# flow in advance, get augmented training data and corresponding labels\n",
        "for i in range(8):\n",
        "    for img, label in datagen.flow(x_train, y_train, batch_size=192):\n",
        "        print(i)\n",
        "        augmented_data = np.vstack((augmented_data, img))\n",
        "        print(augmented_data.shape)\n",
        "        train_labels = np.hstack((train_labels, label))\n",
        "        print(train_labels.shape)\n",
        "        break"
      ]
    },
    {
      "cell_type": "code",
      "execution_count": 36,
      "metadata": {
        "id": "_yszTE_EI8jW",
        "outputId": "0e3fdc4b-003f-4c38-d206-791e5a4f83a1",
        "colab": {
          "base_uri": "https://localhost:8080/"
        }
      },
      "outputs": [
        {
          "output_type": "stream",
          "name": "stdout",
          "text": [
            "54/54 [==============================] - 12s 216ms/step\n",
            "1/1 [==============================] - 1s 721ms/step\n"
          ]
        }
      ],
      "source": [
        "# pre-trained model to extract features\n",
        "base_model = Xception(include_top=False, weights='imagenet', pooling='avg')\n",
        "train_features = base_model.predict(augmented_data)\n",
        "# save validation features and label\n",
        "val_features = base_model.predict(x_val)"
      ]
    },
    {
      "cell_type": "code",
      "source": [
        "np.savetxt('data/train_features.csv', train_features, fmt='%.5f', delimiter=',')\n",
        "np.savetxt('data/train_labels.csv', train_labels, fmt='%1d', delimiter=',')\n",
        "\n",
        "\n",
        "np.savetxt('data/val_features.csv', val_features, fmt='%.5f', delimiter=',')\n",
        "np.savetxt('data/val_labels.csv', y_val, fmt='%1d', delimiter=',')"
      ],
      "metadata": {
        "id": "-twffVHaKy5l"
      },
      "execution_count": 37,
      "outputs": []
    },
    {
      "cell_type": "code",
      "source": [
        "import gc\n",
        "gc.collect()"
      ],
      "metadata": {
        "id": "RgyJx7CkLS4F",
        "outputId": "d7b2cdc7-8157-48f3-e9ed-72d54e420c84",
        "colab": {
          "base_uri": "https://localhost:8080/"
        }
      },
      "execution_count": 38,
      "outputs": [
        {
          "output_type": "execute_result",
          "data": {
            "text/plain": [
              "42949"
            ]
          },
          "metadata": {},
          "execution_count": 38
        }
      ]
    },
    {
      "cell_type": "code",
      "source": [
        "from tensorflow.keras import Sequential\n",
        "from tensorflow.keras.layers import Dense\n",
        "from tensorflow.keras import regularizers\n",
        "from tensorflow.keras.optimizers import Adam\n",
        "from tensorflow.keras.callbacks import TensorBoard, ModelCheckpoint"
      ],
      "metadata": {
        "id": "_MjGAUyWNudX"
      },
      "execution_count": 39,
      "outputs": []
    },
    {
      "cell_type": "code",
      "source": [
        "\n",
        "import matplotlib.pyplot as plt\n",
        "import numpy as np\n",
        "import time\n",
        "\n",
        "\n",
        "epochs = 10\n",
        "batch_size = 32\n",
        "iterations = 120     # 192 * 20 / 32\n",
        "weight_decay = 0.01\n",
        "\n",
        "# load feature vectors and labels\n",
        "x_train = np.genfromtxt('data/train_features.csv', dtype=np.float32, delimiter=',')\n",
        "x_val = np.genfromtxt('data/val_features.csv', dtype=np.float32, delimiter=',')\n",
        "y_train = np.genfromtxt('data/train_labels.csv', dtype=np.uint8)\n",
        "y_val = np.genfromtxt('data/val_labels.csv', dtype=np.uint8)\n",
        "\n",
        "# x_train = train_features\n",
        "# x_val = val_features\n",
        "\n",
        "# custom head: one hidden layer.\n",
        "model = Sequential([\n",
        "    Dense(10, activation='sigmoid', kernel_regularizer=regularizers.l2(weight_decay)),\n",
        "    Dense(1, activation='sigmoid', kernel_regularizer=regularizers.l2(weight_decay))\n",
        "])\n",
        "\n",
        "model.compile(optimizer=Adam(), loss='binary_crossentropy', metrics=['accuracy'])\n",
        "\n",
        "# set up callback\n",
        "cur_time = str(int(time.time()))\n",
        "cbks = [\n",
        "    TensorBoard(log_dir='./log/room_' + cur_time),\n",
        "    ModelCheckpoint('./ckpt/' + cur_time + '_{epoch:02d}-{val_loss:.2f}.hdf5', save_best_only=True)\n",
        "]\n",
        "\n",
        "# training\n",
        "history = model.fit(\n",
        "    x_train, y_train,\n",
        "    batch_size=batch_size,\n",
        "    epochs=epochs,\n",
        "    shuffle=False,      # already shuffled during augmentation\n",
        "    validation_data=(x_val, y_val),\n",
        "    callbacks=cbks,\n",
        "    verbose=1\n",
        ")"
      ],
      "metadata": {
        "id": "vGpJD0r_LYKC",
        "outputId": "aac68802-8d02-4a8e-941a-0ae310fc904f",
        "colab": {
          "base_uri": "https://localhost:8080/"
        }
      },
      "execution_count": 40,
      "outputs": [
        {
          "output_type": "stream",
          "name": "stdout",
          "text": [
            "Epoch 1/10\n",
            "54/54 [==============================] - 2s 9ms/step - loss: 0.8375 - accuracy: 0.7095 - val_loss: 0.7004 - val_accuracy: 0.7000\n",
            "Epoch 2/10\n",
            "54/54 [==============================] - 0s 4ms/step - loss: 0.5897 - accuracy: 0.8843 - val_loss: 0.5983 - val_accuracy: 0.8000\n",
            "Epoch 3/10\n",
            "54/54 [==============================] - 0s 4ms/step - loss: 0.5087 - accuracy: 0.9167 - val_loss: 0.5477 - val_accuracy: 0.8000\n",
            "Epoch 4/10\n",
            "54/54 [==============================] - 0s 3ms/step - loss: 0.4686 - accuracy: 0.9306 - val_loss: 0.5184 - val_accuracy: 0.8000\n",
            "Epoch 5/10\n",
            "54/54 [==============================] - 0s 4ms/step - loss: 0.4446 - accuracy: 0.9363 - val_loss: 0.4997 - val_accuracy: 0.9000\n",
            "Epoch 6/10\n",
            "54/54 [==============================] - 0s 4ms/step - loss: 0.4281 - accuracy: 0.9416 - val_loss: 0.4869 - val_accuracy: 0.9000\n",
            "Epoch 7/10\n",
            "54/54 [==============================] - 0s 4ms/step - loss: 0.4158 - accuracy: 0.9433 - val_loss: 0.4777 - val_accuracy: 0.9000\n",
            "Epoch 8/10\n",
            "54/54 [==============================] - 0s 4ms/step - loss: 0.4061 - accuracy: 0.9456 - val_loss: 0.4707 - val_accuracy: 0.9000\n",
            "Epoch 9/10\n",
            "54/54 [==============================] - 0s 4ms/step - loss: 0.3980 - accuracy: 0.9479 - val_loss: 0.4649 - val_accuracy: 0.9000\n",
            "Epoch 10/10\n",
            "54/54 [==============================] - 0s 4ms/step - loss: 0.3912 - accuracy: 0.9473 - val_loss: 0.4599 - val_accuracy: 0.9000\n"
          ]
        }
      ]
    },
    {
      "cell_type": "code",
      "source": [
        "# save and plot result\n",
        "model.save('./model/room_model_{}.h5'.format(cur_time))\n",
        "\n",
        "train_error = [(1-acc)*100 for acc in history.history['accuracy']]\n",
        "val_error = [(1-acc)*100 for acc in history.history['val_accuracy']]\n",
        "\n",
        "fig, (ax1, ax2) = plt.subplots(nrows=1, ncols=2, figsize=(10, 4))\n",
        "plt.tight_layout(pad=3, w_pad=2)\n",
        "fig.suptitle('Messy Room Classifier', fontsize=16, fontweight='bold')\n",
        "ax1.set_xlabel('Epochs', fontsize=14)\n",
        "ax1.set_ylabel('Error(%)', fontsize=14)\n",
        "ax1.plot(train_error, label='Training Error')\n",
        "ax1.plot(val_error, label='Validation Error')\n",
        "ax1.legend()\n",
        "\n",
        "ax2.set_xlabel('Epochs', fontsize=14)\n",
        "ax2.set_ylabel('Loss', fontsize=14)\n",
        "ax2.plot(history.history['loss'], label='Training Loss')\n",
        "ax2.plot(history.history['val_loss'], label='Validation Loss')\n",
        "ax2.legend()\n",
        "\n",
        "plt.savefig('./model/room_model_{}.png'.format(cur_time))"
      ],
      "metadata": {
        "id": "lz-yLPK1N1HL",
        "outputId": "5e6100d4-0f0d-4956-d12d-190f2d69fe2c",
        "colab": {
          "base_uri": "https://localhost:8080/",
          "height": 396
        }
      },
      "execution_count": 41,
      "outputs": [
        {
          "output_type": "display_data",
          "data": {
            "text/plain": [
              "<Figure size 1000x400 with 2 Axes>"
            ],
            "image/png": "[encoded data removed]"
          },
          "metadata": {}
        }
      ]
    },
    {
      "cell_type": "code",
      "source": [],
      "metadata": {
        "id": "DVu27MzzOEA1"
      },
      "execution_count": null,
      "outputs": []
    }
  ],
  "metadata": {
    "kernelspec": {
      "display_name": "Python 3",
      "name": "python3"
    },
    "language_info": {
      "codemirror_mode": {
        "name": "ipython",
        "version": 3
      },
      "file_extension": ".py",
      "mimetype": "text/x-python",
      "name": "python",
      "nbconvert_exporter": "python",
      "pygments_lexer": "ipython3",
      "version": "3.10.13"
    },
    "colab": {
      "provenance": [],
      "gpuType": "T4",
      "include_colab_link": true
    },
    "accelerator": "GPU"
  },
  "nbformat": 4,
  "nbformat_minor": 0
}