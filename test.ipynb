{
 "cells": [
  {
   "cell_type": "code",
   "execution_count": 27,
   "metadata": {},
   "outputs": [],
   "source": [
    "import os\n",
    "import cv2 as cv\n",
    "from glob import glob\n",
    "\n",
    "categories = ['clean', 'messy']\n",
    "raw_dir = {'train': './raw/train', 'val': './raw/val'}\n",
    "output_dir = './images'\n",
    "extensions = ('*.jpg', '*.png')\n"
   ]
  },
  {
   "cell_type": "code",
   "execution_count": 28,
   "metadata": {},
   "outputs": [],
   "source": [
    "if not os.path.exists(output_dir):\n",
    "    os.mkdir(output_dir)"
   ]
  },
  {
   "cell_type": "code",
   "execution_count": 29,
   "metadata": {},
   "outputs": [],
   "source": [
    "def resize(image, img_size = 299):\n",
    "    h, w, c = image.shape\n",
    "    cropped = image\n",
    "    if h < w:\n",
    "        diff = (w - h) // 2\n",
    "        cropped = image[:, diff: (diff + h), :]\n",
    "    elif h > w:\n",
    "        diff = (h - w) // 2\n",
    "        cropped = image[diff: (diff + w), :, :]\n",
    "\n",
    "    h, w, c = cropped.shape\n",
    "    if h > img_size:    # shrink\n",
    "        return cv.resize(cropped, (img_size, img_size), interpolation=cv.INTER_AREA)\n",
    "    elif h < img_size:  # enlarge\n",
    "        return cv.resize(cropped, (img_size, img_size), interpolation=cv.INTER_CUBIC)\n",
    "    else:\n",
    "        return cropped"
   ]
  },
  {
   "cell_type": "code",
   "execution_count": 30,
   "metadata": {},
   "outputs": [
    {
     "name": "stdout",
     "output_type": "stream",
     "text": [
      "./raw/train/clean/*.jpg\n",
      "./raw/train/clean/*.png\n",
      "processing: ./raw/train/clean/240_F_629580437_fc9kgoFtMGrGodIU0GRcZrNZpzAuteIp.jpg\n",
      "processing: ./raw/train/clean/240_F_636126525_j8vSnp0sXg9e1WLRigLA8YX8zMrkTOEu.jpg\n",
      "processing: ./raw/train/clean/240_F_196997285_5TO5iWGsW4ruIjAPJLbePFnOLyol5OB1.jpg\n",
      "processing: ./raw/train/clean/240_F_136321570_vdzGyD9wnc618kDmYcLsdsyZJqWUtnZf.jpg\n",
      "processing: ./raw/train/clean/240_F_49619979_2lyfHBejqIsrgAAQrUXjLZJaFiGbeZWW.jpg\n",
      "processing: ./raw/train/clean/240_F_217951471_LzKKLeyXZ61bRCCrPYqxwphSOq8oNWLY.jpg\n",
      "processing: ./raw/train/clean/240_F_461370506_HX1zmYH4dRLPvifCGVgFwLjZ0TO5QyEn.jpg\n",
      "processing: ./raw/train/clean/240_F_639620917_sB1i01bmQUHqcR7nagr4GVey9J8ESy2j.jpg\n",
      "processing: ./raw/train/clean/240_F_221509420_5guDmOXwuLKY30dayIl38sMkuCCJpSrl.jpg\n",
      "./raw/train/messy/*.jpg\n",
      "./raw/train/messy/*.png\n",
      "processing: ./raw/train/messy/240_F_676663582_KM213e6b95u4RVNlYJSJKxTeZluIrrA1.jpg\n",
      "processing: ./raw/train/messy/240_F_660567859_VK2knM8RlK92WMluSilv15a3bQXnKyCS.jpg\n",
      "processing: ./raw/train/messy/240_F_131147225_jkOb7NxiWxYYUsxRIvEgyzhBcsSIZQy8.jpg\n",
      "processing: ./raw/train/messy/240_F_664223912_tvPriYHtkrZFSqynbQH8948d3BdtaUTs.jpg\n",
      "processing: ./raw/train/messy/240_F_670524325_5Jd62S771XOZI1zORHtrepkVyLbdMn8n.jpg\n",
      "processing: ./raw/train/messy/240_F_584534113_UmiamazeHE4or9jkfE7nzA0iLLw72fRH.jpg\n",
      "processing: ./raw/train/messy/240_F_690376124_SBHMr2QuKwnPdxZH1F4pqwvTSWfS42ns.jpg\n",
      "processing: ./raw/train/messy/240_F_637294396_TNsTJbivToLAEbXKLRvCtTlPEYO9kdhO.jpg\n",
      "processing: ./raw/train/messy/240_F_637294623_dvLLN1ul2ujBLRToNmE46cy4ceMC2uSc.jpg\n",
      "processing: ./raw/train/messy/240_F_631523759_gdrJpgPTTYc4sUQtR9G1nYiRX5u86jaK.jpg\n",
      "processing: ./raw/train/messy/240_F_257413398_tSrPULBG4y8RKaOtM9hLcdDOLUXUUkME.jpg\n",
      "processing: ./raw/train/messy/240_F_370904864_HdPrz9MnDu5QwM71UCOZArQZcGm7OKWV.jpg\n"
     ]
    },
    {
     "name": "stdout",
     "output_type": "stream",
     "text": [
      "processing: ./raw/train/messy/240_F_292737061_DpbDurRPiNSpB4lROL98VbgeFAl9tfqw.jpg\n",
      "processing: ./raw/train/messy/240_F_239446277_oUOsEXCFY4SLuHsmkV22lRxvS35TJQmx.jpg\n",
      "processing: ./raw/train/messy/240_F_65371097_ufDbBicZy9W2OC5a2imWMnTA4vyxSXBD.jpg\n",
      "processing: ./raw/train/messy/240_F_1106456_CWGv0EGm9WYZDk6qMFlme1GHn1umfX.jpg\n",
      "processing: ./raw/train/messy/240_F_667115220_ClfT9KTOe1oGc5A3qgMFlFf6jnqN6eLQ.jpg\n",
      "./raw/val/clean/*.jpg\n",
      "./raw/val/clean/*.png\n",
      "processing: ./raw/val/clean/240_F_336510426_T8r3jTg31kgoyoMGULULyl1iJDCQgIvz.jpg\n",
      "processing: ./raw/val/clean/240_F_577688677_LdbPdKZquQbRAMNCTW3AefgugpygVvol.jpg\n",
      "processing: ./raw/val/clean/240_F_221509408_ekUpElITcvwAGKDIanHpIDLuEZ5Jdfy7.jpg\n",
      "processing: ./raw/val/clean/240_F_712950271_KvoXgEfDnp5RroR3ORkIrGxEZfP5aDT4.jpg\n",
      "processing: ./raw/val/clean/240_F_333004296_vaaERKXMcpAU4q7GhQKoP3s6YHwkN4n9.jpg\n",
      "processing: ./raw/val/clean/240_F_95558174_cwyIq9NMleDmHSeZZZwjQdAhHe9MuzsN.jpg\n",
      "processing: ./raw/val/clean/240_F_124351325_GSNxP0OAkyIlZIIVSZW96u1YiidowRb2.jpg\n",
      "processing: ./raw/val/clean/240_F_42534287_t26MIjbmUeHLivgj4NYW8tApYVUYpXdY.jpg\n",
      "./raw/val/messy/*.jpg\n",
      "./raw/val/messy/*.png\n",
      "processing: ./raw/val/messy/240_F_637294495_5lnCaG3YIchTvbfrzW4dzwnShK7kIfKT.jpg\n",
      "processing: ./raw/val/messy/240_F_583757158_odzyqqNNsQOO0zXp2s2kkZBBHOvIlnJb.jpg\n",
      "processing: ./raw/val/messy/240_F_569736168_alQQVPONANAoWDGFl9ec2GrEkRjztBH5.jpg\n",
      "processing: ./raw/val/messy/240_F_584534111_setsAi8nkeLpzbKHlWNwrOsuqHvjgG96.jpg\n",
      "processing: ./raw/val/messy/240_F_571352630_vorFi7GaeOF35a0UzX0ciZbuGoShGN6o.jpg\n",
      "processing: ./raw/val/messy/240_F_599157889_r1fRkGIn4UHQZUB0UGMSjXaVRlVzNIaT.jpg\n",
      "processing: ./raw/val/messy/240_F_631523753_y5nNFPUl3LzunaCiOANGNKV17YB2ImWC.jpg\n",
      "processing: ./raw/val/messy/240_F_626417811_MY0NV2lVamWz1kxSb1W6sHSlIwFrc3OX.jpg\n",
      "processing: ./raw/val/messy/240_F_635878752_T6tbqYWo0yE3LrrLgHmpn2fWQtQkD3EB.jpg\n",
      "processing: ./raw/val/messy/240_F_582526027_GlbjlXSTLXGPpCk4uqzfB399DcVGMDBc.jpg\n",
      "processing: ./raw/val/messy/240_F_642465487_Es1mMDQFv4a0x6Z9Dsma1uGm9fxnf9Hm.jpg\n",
      "processing: ./raw/val/messy/240_F_570164430_ky2p73RtQx4furxqHZG2H5D1FfR6Fiwp.jpg\n",
      "processing: ./raw/val/messy/240_F_571352679_C8MLeqxANWgfyHNzv56VJocUXs7oASDK.jpg\n",
      "processing: ./raw/val/messy/240_F_281424373_diXWuFQY8UJjrf6Ilx50LWhrhcmw1VpV.jpg\n"
     ]
    }
   ],
   "source": [
    "for dataset, path in raw_dir.items():\n",
    "    output_set_dir = os.path.join(output_dir, dataset)\n",
    "    if not os.path.exists(output_set_dir):\n",
    "        os.mkdir(output_set_dir)\n",
    "        \n",
    "    for cat in categories:\n",
    "        output_cat_dir = os.path.join(output_set_dir, cat)\n",
    "        if not os.path.exists(output_cat_dir):\n",
    "            os.mkdir(output_cat_dir)  \n",
    "            \n",
    "        input_dir = os.path.join(path, cat)\n",
    "        filenames = list()\n",
    "        for ext in extensions:\n",
    "            print(os.path.join(input_dir, ext))\n",
    "            filenames.extend(glob(os.path.join(input_dir, ext)))          \n",
    "\n",
    "        for i, file in enumerate(filenames):\n",
    "            print('processing:', file)\n",
    "            img = cv.imread(file)\n",
    "            resized = resize(img)\n",
    "            img_name = str(i) + '.png'\n",
    "            filepath = os.path.join(output_cat_dir, img_name)\n",
    "            cv.imwrite(filepath, resized)            "
   ]
  },
  {
   "cell_type": "code",
   "execution_count": 1,
   "metadata": {},
   "outputs": [],
   "source": [
    "import os\n",
    "from glob import glob\n",
    "import cv2 as cv\n",
    "import numpy as np\n",
    "\n",
    "categories = ['clean', 'messy']\n",
    "data_dir = {'train': './images/train', 'val': './images/val'}\n",
    "\n",
    "\n",
    "def load_data():\n",
    "    \"\"\"96 images per class in training set, 10 images per class in validation set\"\"\"\n",
    "\n",
    "    x_train = list()\n",
    "    x_val = list()\n",
    "    y_train = list()\n",
    "    y_val = list()\n",
    "\n",
    "    for dataset, path in data_dir.items():\n",
    "        for i, cat in enumerate(categories):\n",
    "            cur_dir = os.path.join(path, cat)\n",
    "            filenames = glob(os.path.join(cur_dir, '*.png'))\n",
    "            for file in filenames:\n",
    "                img = cv.imread(file)\n",
    "                if dataset == 'train':\n",
    "                    x_train.append(img)\n",
    "                    y_train.append(i)\n",
    "                else:\n",
    "                    x_val.append(img)\n",
    "                    y_val.append(i)\n",
    "\n",
    "    x_train = np.asarray(x_train)\n",
    "    y_train = np.asarray(y_train)\n",
    "    x_val = np.asarray(x_val)\n",
    "    y_val = np.asarray(y_val)\n",
    "\n",
    "    return (x_train, y_train), (x_val, y_val)\n",
    "\n",
    "\n",
    "(x_train, y_train), (x_val, y_val) = load_data()\n",
    "\n",
    "# normalize data\n",
    "channel_mean = np.mean(x_train, axis=(0, 1, 2))\n",
    "channel_std = np.std(x_train, axis=(0, 1, 2))\n",
    "\n",
    "x_train = x_train.astype('float32')\n",
    "x_val = x_val.astype('float32')\n",
    "\n",
    "for i in range(3):\n",
    "    x_train[:, :, :, i] = (x_train[:, :, :, i] - channel_mean[i]) / channel_std[i]\n",
    "    x_val[:, :, :, i] = (x_val[:, :, :, i] - channel_mean[i]) / channel_std[i]\n"
   ]
  },
  {
   "cell_type": "code",
   "execution_count": 2,
   "metadata": {},
   "outputs": [
    {
     "name": "stderr",
     "output_type": "stream",
     "text": [
      "2024-02-11 21:39:21.047946: I external/local_tsl/tsl/cuda/cudart_stub.cc:31] Could not find cuda drivers on your machine, GPU will not be used.\n",
      "2024-02-11 21:39:21.343550: E external/local_xla/xla/stream_executor/cuda/cuda_dnn.cc:9261] Unable to register cuDNN factory: Attempting to register factory for plugin cuDNN when one has already been registered\n",
      "2024-02-11 21:39:21.343605: E external/local_xla/xla/stream_executor/cuda/cuda_fft.cc:607] Unable to register cuFFT factory: Attempting to register factory for plugin cuFFT when one has already been registered\n",
      "2024-02-11 21:39:21.382308: E external/local_xla/xla/stream_executor/cuda/cuda_blas.cc:1515] Unable to register cuBLAS factory: Attempting to register factory for plugin cuBLAS when one has already been registered\n",
      "2024-02-11 21:39:21.443481: I external/local_tsl/tsl/cuda/cudart_stub.cc:31] Could not find cuda drivers on your machine, GPU will not be used.\n",
      "2024-02-11 21:39:21.444209: I tensorflow/core/platform/cpu_feature_guard.cc:182] This TensorFlow binary is optimized to use available CPU instructions in performance-critical operations.\n",
      "To enable the following instructions: AVX2 FMA, in other operations, rebuild TensorFlow with the appropriate compiler flags.\n",
      "2024-02-11 21:39:26.173548: W tensorflow/compiler/tf2tensorrt/utils/py_utils.cc:38] TF-TRT Warning: Could not find TensorRT\n"
     ]
    }
   ],
   "source": [
    "from tensorflow.keras.preprocessing.image import ImageDataGenerator\n",
    "from tensorflow.keras.applications import Xception, EfficientNetB0, MobileNetV3Large"
   ]
  },
  {
   "cell_type": "code",
   "execution_count": 3,
   "metadata": {},
   "outputs": [
    {
     "name": "stdout",
     "output_type": "stream",
     "text": [
      "0\n",
      "(384, 299, 299, 3)\n",
      "(384,)\n",
      "1\n",
      "(576, 299, 299, 3)\n",
      "(576,)\n",
      "2\n",
      "(768, 299, 299, 3)\n",
      "(768,)\n",
      "3\n",
      "(960, 299, 299, 3)\n",
      "(960,)\n",
      "4\n",
      "(1152, 299, 299, 3)\n",
      "(1152,)\n",
      "5\n",
      "(1344, 299, 299, 3)\n",
      "(1344,)\n",
      "6\n",
      "(1536, 299, 299, 3)\n",
      "(1536,)\n",
      "7\n",
      "(1728, 299, 299, 3)\n",
      "(1728,)\n",
      "8\n"
     ]
    },
    {
     "ename": "",
     "evalue": "",
     "output_type": "error",
     "traceback": [
      "\u001b[1;31mThe Kernel crashed while executing code in the current cell or a previous cell. \n",
      "\u001b[1;31mPlease review the code in the cell(s) to identify a possible cause of the failure. \n",
      "\u001b[1;31mClick <a href='https://aka.ms/vscodeJupyterKernelCrash'>here</a> for more info. \n",
      "\u001b[1;31mView Jupyter <a href='command:jupyter.viewOutput'>log</a> for further details."
     ]
    }
   ],
   "source": [
    "# define data augmentation\n",
    "datagen = ImageDataGenerator(\n",
    "    rotation_range=20,\n",
    "    width_shift_range=0.2,\n",
    "    height_shift_range=0.2,\n",
    "    shear_range=0.2,\n",
    "    zoom_range=0.2,\n",
    "    horizontal_flip=True\n",
    ")\n",
    "\n",
    "augmented_data = x_train.copy()\n",
    "train_labels = y_train.copy()\n",
    "\n",
    "# flow in advance, get augmented training data and corresponding labels\n",
    "for i in range(19):\n",
    "    for img, label in datagen.flow(x_train, y_train, batch_size=192):\n",
    "        print(i)\n",
    "        augmented_data = np.vstack((augmented_data, img))\n",
    "        print(augmented_data.shape)\n",
    "        train_labels = np.hstack((train_labels, label))\n",
    "        print(train_labels.shape)\n",
    "        break"
   ]
  },
  {
   "cell_type": "code",
   "execution_count": null,
   "metadata": {},
   "outputs": [],
   "source": []
  }
 ],
 "metadata": {
  "kernelspec": {
   "display_name": "env",
   "language": "python",
   "name": "python3"
  },
  "language_info": {
   "codemirror_mode": {
    "name": "ipython",
    "version": 3
   },
   "file_extension": ".py",
   "mimetype": "text/x-python",
   "name": "python",
   "nbconvert_exporter": "python",
   "pygments_lexer": "ipython3",
   "version": "3.10.13"
  }
 },
 "nbformat": 4,
 "nbformat_minor": 2
}
